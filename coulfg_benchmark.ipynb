{
 "cells": [
  {
   "cell_type": "code",
   "execution_count": 5,
   "id": "76ae8f78-f297-473a-9d82-fab2adcb2ce0",
   "metadata": {},
   "outputs": [],
   "source": [
    "import coulfg\n",
    "import mpmath\n",
    "import numpy as np"
   ]
  },
  {
   "cell_type": "code",
   "execution_count": 6,
   "id": "afd284f6-89ee-4135-afbd-9d477d2aa91e",
   "metadata": {},
   "outputs": [
    {
     "name": "stdout",
     "output_type": "stream",
     "text": [
      "fc,gc,fcp,gcp = coulfg(xx,eta1,xlmin,xlmax,[mode1,kfn])\n",
      "\n",
      "Wrapper for ``coulfg``.\n",
      "\n",
      "Parameters\n",
      "----------\n",
      "xx : input float\n",
      "eta1 : input float\n",
      "xlmin : input float\n",
      "xlmax : input float\n",
      "\n",
      "Other Parameters\n",
      "----------------\n",
      "mode1 : input int, optional\n",
      "    Default: 1\n",
      "kfn : input int, optional\n",
      "    Default: 0\n",
      "\n",
      "Returns\n",
      "-------\n",
      "fc : rank-1 array('d') with bounds (xlmax - xlmin)\n",
      "gc : rank-1 array('d') with bounds (xlmax - xlmin)\n",
      "fcp : rank-1 array('d') with bounds (xlmax - xlmin)\n",
      "gcp : rank-1 array('d') with bounds (xlmax - xlmin)\n",
      "\n"
     ]
    }
   ],
   "source": [
    "print(coulfg.coulfg.__doc__)"
   ]
  },
  {
   "cell_type": "code",
   "execution_count": 7,
   "id": "019195a0-f104-4f38-8479-4701a613de46",
   "metadata": {},
   "outputs": [
    {
     "name": "stdout",
     "output_type": "stream",
     "text": [
      "\n",
      "Calculates the regular Coulomb wave function\n",
      "\n",
      ".. math ::\n",
      "\n",
      "    F_l(\\eta,z) = C_l(\\eta) z^{l+1} e^{-iz} \\,_1F_1(l+1-i\\eta, 2l+2, 2iz)\n",
      "\n",
      "where the normalization constant `C_l(\\eta)` is as calculated by\n",
      ":func:`~mpmath.coulombc`. This function solves the differential equation\n",
      "\n",
      ".. math ::\n",
      "\n",
      "    f''(z) + \\left(1-\\frac{2\\eta}{z}-\\frac{l(l+1)}{z^2}\\right) f(z) = 0.\n",
      "\n",
      "A second linearly independent solution is given by the irregular\n",
      "Coulomb wave function `G_l(\\eta,z)` (see :func:`~mpmath.coulombg`)\n",
      "and thus the general solution is\n",
      "`f(z) = C_1 F_l(\\eta,z) + C_2 G_l(\\eta,z)` for arbitrary\n",
      "constants `C_1`, `C_2`.\n",
      "Physically, the Coulomb wave functions give the radial solution\n",
      "to the Schrodinger equation for a point particle in a `1/z` potential; `z` is\n",
      "then the radius and `l`, `\\eta` are quantum numbers.\n",
      "\n",
      "The Coulomb wave functions with real parameters are defined\n",
      "in Abramowitz & Stegun, section 14. However, all parameters are permitted\n",
      "to be complex in this implementation (see references).\n",
      "\n",
      "**Plots**\n",
      "\n",
      ".. literalinclude :: /plots/coulombf.py\n",
      ".. image :: /plots/coulombf.png\n",
      ".. literalinclude :: /plots/coulombf_c.py\n",
      ".. image :: /plots/coulombf_c.png\n",
      "\n",
      "**Examples**\n",
      "\n",
      "Evaluation is supported for arbitrary magnitudes of `z`::\n",
      "\n",
      "    >>> from mpmath import *\n",
      "    >>> mp.dps = 25; mp.pretty = True\n",
      "    >>> coulombf(2, 1.5, 3.5)\n",
      "    0.4080998961088761187426445\n",
      "    >>> coulombf(-2, 1.5, 3.5)\n",
      "    0.7103040849492536747533465\n",
      "    >>> coulombf(2, 1.5, '1e-10')\n",
      "    4.143324917492256448770769e-33\n",
      "    >>> coulombf(2, 1.5, 1000)\n",
      "    0.4482623140325567050716179\n",
      "    >>> coulombf(2, 1.5, 10**10)\n",
      "    -0.066804196437694360046619\n",
      "\n",
      "Verifying the differential equation::\n",
      "\n",
      "    >>> l, eta, z = 2, 3, mpf(2.75)\n",
      "    >>> A, B = 1, 2\n",
      "    >>> f = lambda z: A*coulombf(l,eta,z) + B*coulombg(l,eta,z)\n",
      "    >>> chop(diff(f,z,2) + (1-2*eta/z - l*(l+1)/z**2)*f(z))\n",
      "    0.0\n",
      "\n",
      "A Wronskian relation satisfied by the Coulomb wave functions::\n",
      "\n",
      "    >>> l = 2\n",
      "    >>> eta = 1.5\n",
      "    >>> F = lambda z: coulombf(l,eta,z)\n",
      "    >>> G = lambda z: coulombg(l,eta,z)\n",
      "    >>> for z in [3.5, -1, 2+3j]:\n",
      "    ...     chop(diff(F,z)*G(z) - F(z)*diff(G,z))\n",
      "    ...\n",
      "    1.0\n",
      "    1.0\n",
      "    1.0\n",
      "\n",
      "Another Wronskian relation::\n",
      "\n",
      "    >>> F = coulombf\n",
      "    >>> G = coulombg\n",
      "    >>> for z in [3.5, -1, 2+3j]:\n",
      "    ...     chop(F(l-1,eta,z)*G(l,eta,z)-F(l,eta,z)*G(l-1,eta,z) - l/sqrt(l**2+eta**2))\n",
      "    ...\n",
      "    0.0\n",
      "    0.0\n",
      "    0.0\n",
      "\n",
      "An integral identity connecting the regular and irregular wave functions::\n",
      "\n",
      "    >>> l, eta, z = 4+j, 2-j, 5+2j\n",
      "    >>> coulombf(l,eta,z) + j*coulombg(l,eta,z)\n",
      "    (0.7997977752284033239714479 + 0.9294486669502295512503127j)\n",
      "    >>> g = lambda t: exp(-t)*t**(l-j*eta)*(t+2*j*z)**(l+j*eta)\n",
      "    >>> j*exp(-j*z)*z**(-l)/fac(2*l+1)/coulombc(l,eta)*quad(g, [0,inf])\n",
      "    (0.7997977752284033239714479 + 0.9294486669502295512503127j)\n",
      "\n",
      "Some test case with complex parameters, taken from Michel [2]::\n",
      "\n",
      "    >>> mp.dps = 15\n",
      "    >>> coulombf(1+0.1j, 50+50j, 100.156)\n",
      "    (-1.02107292320897e+15 - 2.83675545731519e+15j)\n",
      "    >>> coulombg(1+0.1j, 50+50j, 100.156)\n",
      "    (2.83675545731519e+15 - 1.02107292320897e+15j)\n",
      "    >>> coulombf(1e-5j, 10+1e-5j, 0.1+1e-6j)\n",
      "    (4.30566371247811e-14 - 9.03347835361657e-19j)\n",
      "    >>> coulombg(1e-5j, 10+1e-5j, 0.1+1e-6j)\n",
      "    (778709182061.134 + 18418936.2660553j)\n",
      "\n",
      "The following reproduces a table in Abramowitz & Stegun, at twice\n",
      "the precision::\n",
      "\n",
      "    >>> mp.dps = 10\n",
      "    >>> eta = 2; z = 5\n",
      "    >>> for l in [5, 4, 3, 2, 1, 0]:\n",
      "    ...     print(\"%s %s %s\" % (l, coulombf(l,eta,z),\n",
      "    ...         diff(lambda z: coulombf(l,eta,z), z)))\n",
      "    ...\n",
      "    5 0.09079533488 0.1042553261\n",
      "    4 0.2148205331 0.2029591779\n",
      "    3 0.4313159311 0.320534053\n",
      "    2 0.7212774133 0.3952408216\n",
      "    1 0.9935056752 0.3708676452\n",
      "    0 1.143337392 0.2937960375\n",
      "\n",
      "**References**\n",
      "\n",
      "1. I.J. Thompson & A.R. Barnett, \"Coulomb and Bessel Functions of Complex\n",
      "   Arguments and Order\", J. Comp. Phys., vol 64, no. 2, June 1986.\n",
      "\n",
      "2. N. Michel, \"Precise Coulomb wave functions for a wide range of\n",
      "   complex `l`, `\\eta` and `z`\", http://arxiv.org/abs/physics/0702051v1\n",
      "\n",
      "\n"
     ]
    }
   ],
   "source": [
    "print(mpmath.coulombf.__doc__)"
   ]
  },
  {
   "cell_type": "code",
   "execution_count": 10,
   "id": "73c589d1-93c6-4a24-810d-f407f1cd38a4",
   "metadata": {},
   "outputs": [],
   "source": [
    "zs = np.linspace(0.10,20,10000)\n",
    "eta = 1\n",
    "l = 0"
   ]
  },
  {
   "cell_type": "code",
   "execution_count": 13,
   "id": "458e3465-678f-4900-8e4a-3aecdd7280cd",
   "metadata": {},
   "outputs": [
    {
     "data": {
      "text/plain": [
       "(array([0.02615587]),\n",
       " array([4.85826285]),\n",
       " array([0.15375548]),\n",
       " array([-9.67337118]))"
      ]
     },
     "execution_count": 13,
     "metadata": {},
     "output_type": "execute_result"
    }
   ],
   "source": [
    "coulfg.coulfg(0.2,eta,l,l+1)"
   ]
  },
  {
   "cell_type": "code",
   "execution_count": 20,
   "id": "a27cab2a-9c03-4668-90da-09a3ad98f807",
   "metadata": {},
   "outputs": [
    {
     "name": "stdout",
     "output_type": "stream",
     "text": [
      "29.1 ms ± 661 µs per loop (mean ± std. dev. of 7 runs, 10 loops each)\n"
     ]
    }
   ],
   "source": [
    "%%timeit\n",
    "np.array([ coulfg.coulfg(z,eta,l,l+1) for z in zs])[:,0,0]"
   ]
  },
  {
   "cell_type": "code",
   "execution_count": null,
   "id": "229289e3-887d-40ab-93d1-b961540fc842",
   "metadata": {},
   "outputs": [],
   "source": [
    "print(resulk)"
   ]
  },
  {
   "cell_type": "code",
   "execution_count": 21,
   "id": "26f54771-43e1-4100-96d1-85dd8ca4e968",
   "metadata": {},
   "outputs": [
    {
     "name": "stdout",
     "output_type": "stream",
     "text": [
      "2.15 s ± 23 ms per loop (mean ± std. dev. of 7 runs, 1 loop each)\n"
     ]
    }
   ],
   "source": [
    "%%timeit\n",
    "np.array([ mpmath.coulombf(l,eta,z) for z in zs])"
   ]
  },
  {
   "cell_type": "code",
   "execution_count": 22,
   "id": "b81543b6-8e14-4f11-925f-80f80b9a56d3",
   "metadata": {},
   "outputs": [],
   "source": [
    "from matplotlib import pyplot as plt"
   ]
  },
  {
   "cell_type": "code",
   "execution_count": 25,
   "id": "0f667087-32fb-43d0-9626-c982e950fa69",
   "metadata": {},
   "outputs": [
    {
     "data": {
      "text/plain": [
       "[<matplotlib.lines.Line2D at 0x758dd739f8d0>]"
      ]
     },
     "execution_count": 25,
     "metadata": {},
     "output_type": "execute_result"
    },
    {
     "data": {
      "image/png": "[encoded data removed]",
      "text/plain": [
       "<Figure size 640x480 with 1 Axes>"
      ]
     },
     "metadata": {},
     "output_type": "display_data"
    }
   ],
   "source": [
    "plt.plot(x, np.array([ coulfg.coulfg(z,eta,l,l+1) for z in zs])[:,0,0])\n",
    "plt.plot(x, np.array([ mpmath.coulombf(l,eta,z) for z in zs]), \":\")"
   ]
  },
  {
   "cell_type": "code",
   "execution_count": null,
   "id": "e0f368c8-c17f-44af-b7df-0ba0814cdce6",
   "metadata": {},
   "outputs": [],
   "source": []
  }
 ],
 "metadata": {
  "kernelspec": {
   "display_name": "sage",
   "language": "python",
   "name": "sage"
  },
  "language_info": {
   "codemirror_mode": {
    "name": "ipython",
    "version": 3
   },
   "file_extension": ".py",
   "mimetype": "text/x-python",
   "name": "python",
   "nbconvert_exporter": "python",
   "pygments_lexer": "ipython3",
   "version": "3.11.8"
  }
 },
 "nbformat": 4,
 "nbformat_minor": 5
}
